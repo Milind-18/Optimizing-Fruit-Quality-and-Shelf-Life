{
 "cells": [
  {
   "cell_type": "markdown",
   "id": "8142ba9f-f306-4cd0-b191-617af60587b1",
   "metadata": {},
   "source": [
    "# Architecture of reference paper 15 with simple ANN"
   ]
  },
  {
   "cell_type": "code",
   "execution_count": 2,
   "id": "66197589-0d06-4ea9-8232-af9e03d04590",
   "metadata": {},
   "outputs": [
    {
     "name": "stdout",
     "output_type": "stream",
     "text": [
      "GPUs available: [PhysicalDevice(name='/physical_device:GPU:0', device_type='GPU')]\n"
     ]
    }
   ],
   "source": [
    "import tensorflow as tf\n",
    "print(\"GPUs available:\", tf.config.list_physical_devices('GPU'))\n"
   ]
  },
  {
   "cell_type": "code",
   "execution_count": 3,
   "id": "c22e085e-e35d-4aec-9e42-c31693890324",
   "metadata": {},
   "outputs": [],
   "source": [
    "# Import necessary libraries\n",
    "import tensorflow as tf\n",
    "from tensorflow.keras.preprocessing.image import ImageDataGenerator\n",
    "from tensorflow.keras.models import Sequential\n",
    "from tensorflow.keras.layers import Conv2D, MaxPooling2D, Flatten, Dense, Dropout, LeakyReLU, AveragePooling2D, Activation\n",
    "import matplotlib.pyplot as plt"
   ]
  },
  {
   "cell_type": "markdown",
   "id": "64b253ed-8df4-4cb8-a5a7-9f8440f9a961",
   "metadata": {},
   "source": [
    "## On Apple Dataset"
   ]
  },
  {
   "cell_type": "code",
   "execution_count": 6,
   "id": "aa7c3c47-1c1a-4f7d-b533-ed2db169c2cf",
   "metadata": {},
   "outputs": [
    {
     "name": "stdout",
     "output_type": "stream",
     "text": [
      "Found 5672 images belonging to 2 classes.\n",
      "Found 1779 images belonging to 2 classes.\n"
     ]
    }
   ],
   "source": [
    "# Define image parameters\n",
    "img_height, img_width = 128, 128\n",
    "batch_size = 32\n",
    "\n",
    "\n",
    "# Define paths to your dataset directories\n",
    "train_dir = '/Users/milind/Documents/try/Untitled Folder/All apples/Train'        # Replace with your training data directory\n",
    "validation_dir = '/Users/milind/Documents/try/Untitled Folder/All apples/Test'  # Replace with your validation data directory\n",
    "\n",
    "\n",
    "# Create ImageDataGenerators for data augmentation and normalization\n",
    "train_datagen = ImageDataGenerator(\n",
    "    rescale=1./255,           # Normalize pixel values\n",
    "    rotation_range=40,        # Randomly rotate images   ##********** causing permission error\n",
    "    width_shift_range=0.2,    # Randomly shift images horizontally\n",
    "    height_shift_range=0.2,   # Randomly shift images vertically\n",
    "    shear_range=0.2,          # Random shear\n",
    "    zoom_range=0.2,           # Random zoom\n",
    "    horizontal_flip=True,     # Randomly flip images\n",
    "    fill_mode='nearest'       # Fill strategy for new pixels\n",
    ")\n",
    "\n",
    "# For validation data, only rescaling is applied\n",
    "validation_datagen = ImageDataGenerator(rescale=1./255)\n",
    "\n",
    "# Create generators that read images from the directories\n",
    "train_generator_all = train_datagen.flow_from_directory(\n",
    "    train_dir,\n",
    "    target_size=(img_width, img_height),\n",
    "    batch_size=batch_size,\n",
    "    class_mode='categorical'  # Use 'categorical' for multi-class classification\n",
    ")\n",
    "\n",
    "validation_generator_all = validation_datagen.flow_from_directory(\n",
    "    validation_dir,\n",
    "    target_size=(img_width, img_height),\n",
    "    batch_size=batch_size,\n",
    "    class_mode='categorical'\n",
    ")"
   ]
  },
  {
   "cell_type": "markdown",
   "id": "2acc1cd3-6d5e-4974-92dd-b3eec9f66da0",
   "metadata": {},
   "source": [
    "## for 30 epochs"
   ]
  },
  {
   "cell_type": "code",
   "execution_count": null,
   "id": "f6e9e92b-c79d-42da-b17e-f845abedb442",
   "metadata": {},
   "outputs": [],
   "source": [
    "# Build the CNN model\n",
    "model1 = Sequential([\n",
    "    # First convolutional block\n",
    "    Conv2D(16, (3, 3), activation='relu', input_shape=(img_width, img_height, 3)),\n",
    "    Conv2D(16, (3, 3), activation='relu'),\n",
    "    MaxPooling2D(2, 2),\n",
    "\n",
    "    # Second convolutional block\n",
    "    Conv2D(32, (3, 3), activation='relu'),\n",
    "    Conv2D(32, (3, 3), activation='relu'),\n",
    "    MaxPooling2D(2, 2),\n",
    "\n",
    "    # Third convolutional block\n",
    "    Conv2D(64, (3, 3), activation='relu'),\n",
    "    Conv2D(64, (3, 3), activation='relu'),\n",
    "    MaxPooling2D(2, 2),\n",
    "\n",
    "    # Flatten the feature maps into a 1D vector\n",
    "    Flatten(),\n",
    "    \n",
    "    # Fully connected layer\n",
    "    Dense(64, activation='relu'),\n",
    "    Dense(32, activation='relu'),\n",
    "    \n",
    "    # Output layer: number of neurons equals number of classes\n",
    "    Dense(train_generator_all.num_classes, activation='softmax')\n",
    "])\n",
    "\n",
    "# Compile the model\n",
    "model1.compile(loss='categorical_crossentropy',\n",
    "              optimizer='adam',\n",
    "              metrics=['accuracy'])\n",
    "\n",
    "# Display the model's architecture\n",
    "model1.summary()\n",
    "\n",
    "# Train the model\n",
    "history = model1.fit(\n",
    "    train_generator_all,\n",
    "    steps_per_epoch=train_generator_all.samples // batch_size,\n",
    "    epochs=30,  # Increase the number of epochs for better results\n",
    "    validation_data=validation_generator_all,\n",
    "    validation_steps=validation_generator_all.samples // batch_size\n",
    ")\n",
    "\n",
    "# Plot training & validation accuracy and loss values\n",
    "acc = history.history['accuracy']\n",
    "val_acc = history.history['val_accuracy']\n",
    "loss = history.history['loss']\n",
    "val_loss = history.history['val_loss']\n",
    "\n",
    "epochs_range = range(len(acc))\n",
    "\n",
    "plt.figure(figsize=(12, 4))\n",
    "plt.subplot(1, 2, 1)\n",
    "plt.plot(epochs_range, acc, label='Training Accuracy', marker='o')\n",
    "plt.plot(epochs_range, val_acc, label='Validation Accuracy', marker='o')\n",
    "plt.legend(loc='lower right')\n",
    "plt.title('Training and Validation Accuracy')\n",
    "\n",
    "plt.subplot(1, 2, 2)\n",
    "plt.plot(epochs_range, loss, label='Training Loss', marker='o')\n",
    "plt.plot(epochs_range, val_loss, label='Validation Loss', marker='o')\n",
    "plt.legend(loc='upper right')\n",
    "plt.title('Training and Validation Loss')\n",
    "plt.show()"
   ]
  },
  {
   "cell_type": "code",
   "execution_count": 24,
   "id": "e6b46db0-d62c-4fae-93c7-dea0124c7e22",
   "metadata": {},
   "outputs": [
    {
     "name": "stdout",
     "output_type": "stream",
     "text": [
      "\u001b[1m56/56\u001b[0m \u001b[32m━━━━━━━━━━━━━━━━━━━━\u001b[0m\u001b[37m\u001b[0m \u001b[1m4s\u001b[0m 66ms/step - accuracy: 0.7946 - loss: 1.3449\n",
      "Test Accuracy: 79.93%\n",
      "Test loss: 127.64%\n"
     ]
    }
   ],
   "source": [
    "# Evaluate the model\n",
    "loss, accuracy = model1.evaluate(validation_generator_all)\n",
    "print(f'Test Accuracy: {accuracy * 100:.2f}%')\n",
    "print(f'Test loss: {loss * 100:.2f}%')"
   ]
  },
  {
   "cell_type": "code",
   "execution_count": 26,
   "id": "f5057f93-4185-4e47-9c16-b0e2d73fec5c",
   "metadata": {},
   "outputs": [
    {
     "name": "stdout",
     "output_type": "stream",
     "text": [
      "Epoch 1/30\n",
      "\u001b[1m177/177\u001b[0m \u001b[32m━━━━━━━━━━━━━━━━━━━━\u001b[0m\u001b[37m\u001b[0m \u001b[1m24s\u001b[0m 133ms/step - accuracy: 0.7539 - loss: 1.6417 - val_accuracy: 0.7591 - val_loss: 3.0026\n",
      "Epoch 2/30\n",
      "\u001b[1m177/177\u001b[0m \u001b[32m━━━━━━━━━━━━━━━━━━━━\u001b[0m\u001b[37m\u001b[0m \u001b[1m3s\u001b[0m 19ms/step - accuracy: 0.7812 - loss: 3.3027 - val_accuracy: 0.8426 - val_loss: 1.2035\n",
      "Epoch 3/30\n",
      "\u001b[1m177/177\u001b[0m \u001b[32m━━━━━━━━━━━━━━━━━━━━\u001b[0m\u001b[37m\u001b[0m \u001b[1m23s\u001b[0m 129ms/step - accuracy: 0.7239 - loss: 38.7346 - val_accuracy: 0.5955 - val_loss: 41.4192\n",
      "Epoch 4/30\n",
      "\u001b[1m177/177\u001b[0m \u001b[32m━━━━━━━━━━━━━━━━━━━━\u001b[0m\u001b[37m\u001b[0m \u001b[1m4s\u001b[0m 24ms/step - accuracy: 0.5000 - loss: 80.1490 - val_accuracy: 0.5972 - val_loss: 41.4172\n",
      "Epoch 5/30\n",
      "\u001b[1m177/177\u001b[0m \u001b[32m━━━━━━━━━━━━━━━━━━━━\u001b[0m\u001b[37m\u001b[0m \u001b[1m25s\u001b[0m 139ms/step - accuracy: 0.5707 - loss: 232.6877 - val_accuracy: 0.7977 - val_loss: 158.8231\n",
      "Epoch 6/30\n",
      "\u001b[1m177/177\u001b[0m \u001b[32m━━━━━━━━━━━━━━━━━━━━\u001b[0m\u001b[37m\u001b[0m \u001b[1m4s\u001b[0m 21ms/step - accuracy: 0.8438 - loss: 97.4294 - val_accuracy: 0.7693 - val_loss: 284.0223\n",
      "Epoch 7/30\n",
      "\u001b[1m177/177\u001b[0m \u001b[32m━━━━━━━━━━━━━━━━━━━━\u001b[0m\u001b[37m\u001b[0m \u001b[1m25s\u001b[0m 141ms/step - accuracy: 0.6848 - loss: 371.8593 - val_accuracy: 0.7955 - val_loss: 244.2236\n",
      "Epoch 8/30\n",
      "\u001b[1m177/177\u001b[0m \u001b[32m━━━━━━━━━━━━━━━━━━━━\u001b[0m\u001b[37m\u001b[0m \u001b[1m4s\u001b[0m 21ms/step - accuracy: 0.7500 - loss: 379.5571 - val_accuracy: 0.7000 - val_loss: 359.4250\n",
      "Epoch 9/30\n",
      "\u001b[1m177/177\u001b[0m \u001b[32m━━━━━━━━━━━━━━━━━━━━\u001b[0m\u001b[37m\u001b[0m \u001b[1m25s\u001b[0m 139ms/step - accuracy: 0.5173 - loss: 323.9908 - val_accuracy: 0.5801 - val_loss: 103.3621\n",
      "Epoch 10/30\n",
      "\u001b[1m177/177\u001b[0m \u001b[32m━━━━━━━━━━━━━━━━━━━━\u001b[0m\u001b[37m\u001b[0m \u001b[1m3s\u001b[0m 19ms/step - accuracy: 0.6250 - loss: 173.8211 - val_accuracy: 0.4301 - val_loss: 122.1290\n",
      "Epoch 11/30\n",
      "\u001b[1m177/177\u001b[0m \u001b[32m━━━━━━━━━━━━━━━━━━━━\u001b[0m\u001b[37m\u001b[0m \u001b[1m25s\u001b[0m 139ms/step - accuracy: 0.5323 - loss: 509.8147 - val_accuracy: 0.6284 - val_loss: 1883.3912\n",
      "Epoch 12/30\n",
      "\u001b[1m177/177\u001b[0m \u001b[32m━━━━━━━━━━━━━━━━━━━━\u001b[0m\u001b[37m\u001b[0m \u001b[1m4s\u001b[0m 21ms/step - accuracy: 0.6562 - loss: 1942.3408 - val_accuracy: 0.7977 - val_loss: 773.8740\n",
      "Epoch 13/30\n",
      "\u001b[1m177/177\u001b[0m \u001b[32m━━━━━━━━━━━━━━━━━━━━\u001b[0m\u001b[37m\u001b[0m \u001b[1m24s\u001b[0m 135ms/step - accuracy: 0.8068 - loss: 1721.9031 - val_accuracy: 0.8028 - val_loss: 2825.8015\n",
      "Epoch 14/30\n",
      "\u001b[1m177/177\u001b[0m \u001b[32m━━━━━━━━━━━━━━━━━━━━\u001b[0m\u001b[37m\u001b[0m \u001b[1m4s\u001b[0m 20ms/step - accuracy: 0.8750 - loss: 1620.5907 - val_accuracy: 0.7898 - val_loss: 3328.1760\n",
      "Epoch 15/30\n",
      "\u001b[1m177/177\u001b[0m \u001b[32m━━━━━━━━━━━━━━━━━━━━\u001b[0m\u001b[37m\u001b[0m \u001b[1m25s\u001b[0m 143ms/step - accuracy: 0.8246 - loss: 1074.6022 - val_accuracy: 0.9011 - val_loss: 805.3267\n",
      "Epoch 16/30\n",
      "\u001b[1m177/177\u001b[0m \u001b[32m━━━━━━━━━━━━━━━━━━━━\u001b[0m\u001b[37m\u001b[0m \u001b[1m3s\u001b[0m 19ms/step - accuracy: 0.8438 - loss: 1308.5363 - val_accuracy: 0.8949 - val_loss: 825.3637\n",
      "Epoch 17/30\n",
      "\u001b[1m177/177\u001b[0m \u001b[32m━━━━━━━━━━━━━━━━━━━━\u001b[0m\u001b[37m\u001b[0m \u001b[1m25s\u001b[0m 143ms/step - accuracy: 0.8232 - loss: 2239.9309 - val_accuracy: 0.8813 - val_loss: 1305.8831\n",
      "Epoch 18/30\n",
      "\u001b[1m177/177\u001b[0m \u001b[32m━━━━━━━━━━━━━━━━━━━━\u001b[0m\u001b[37m\u001b[0m \u001b[1m4s\u001b[0m 19ms/step - accuracy: 0.8125 - loss: 2340.1277 - val_accuracy: 0.8938 - val_loss: 1608.5825\n",
      "Epoch 19/30\n",
      "\u001b[1m177/177\u001b[0m \u001b[32m━━━━━━━━━━━━━━━━━━━━\u001b[0m\u001b[37m\u001b[0m \u001b[1m26s\u001b[0m 145ms/step - accuracy: 0.8259 - loss: 1969.9430 - val_accuracy: 0.8705 - val_loss: 1524.2726\n",
      "Epoch 20/30\n",
      "\u001b[1m177/177\u001b[0m \u001b[32m━━━━━━━━━━━━━━━━━━━━\u001b[0m\u001b[37m\u001b[0m \u001b[1m4s\u001b[0m 20ms/step - accuracy: 0.8438 - loss: 2712.8071 - val_accuracy: 0.8892 - val_loss: 1338.6188\n",
      "Epoch 21/30\n",
      "\u001b[1m177/177\u001b[0m \u001b[32m━━━━━━━━━━━━━━━━━━━━\u001b[0m\u001b[37m\u001b[0m \u001b[1m25s\u001b[0m 138ms/step - accuracy: 0.8102 - loss: 8896.4541 - val_accuracy: 0.8949 - val_loss: 1977.0583\n",
      "Epoch 22/30\n",
      "\u001b[1m177/177\u001b[0m \u001b[32m━━━━━━━━━━━━━━━━━━━━\u001b[0m\u001b[37m\u001b[0m \u001b[1m4s\u001b[0m 19ms/step - accuracy: 0.8438 - loss: 3440.0659 - val_accuracy: 0.8801 - val_loss: 1970.6346\n",
      "Epoch 23/30\n",
      "\u001b[1m177/177\u001b[0m \u001b[32m━━━━━━━━━━━━━━━━━━━━\u001b[0m\u001b[37m\u001b[0m \u001b[1m27s\u001b[0m 155ms/step - accuracy: 0.8023 - loss: 13813.8125 - val_accuracy: 0.8381 - val_loss: 10677.4463\n",
      "Epoch 24/30\n",
      "\u001b[1m177/177\u001b[0m \u001b[32m━━━━━━━━━━━━━━━━━━━━\u001b[0m\u001b[37m\u001b[0m \u001b[1m4s\u001b[0m 24ms/step - accuracy: 0.6250 - loss: 65559.7578 - val_accuracy: 0.8682 - val_loss: 16243.6719\n",
      "Epoch 25/30\n",
      "\u001b[1m177/177\u001b[0m \u001b[32m━━━━━━━━━━━━━━━━━━━━\u001b[0m\u001b[37m\u001b[0m \u001b[1m30s\u001b[0m 171ms/step - accuracy: 0.7673 - loss: 72403.5156 - val_accuracy: 0.7909 - val_loss: 658855.1875\n",
      "Epoch 26/30\n",
      "\u001b[1m177/177\u001b[0m \u001b[32m━━━━━━━━━━━━━━━━━━━━\u001b[0m\u001b[37m\u001b[0m \u001b[1m3s\u001b[0m 19ms/step - accuracy: 0.6875 - loss: 1388608.5000 - val_accuracy: 0.8131 - val_loss: 562229.0000\n",
      "Epoch 27/30\n",
      "\u001b[1m177/177\u001b[0m \u001b[32m━━━━━━━━━━━━━━━━━━━━\u001b[0m\u001b[37m\u001b[0m \u001b[1m27s\u001b[0m 153ms/step - accuracy: 0.7089 - loss: 823249.9375 - val_accuracy: 0.8455 - val_loss: 400064.2500\n",
      "Epoch 28/30\n",
      "\u001b[1m177/177\u001b[0m \u001b[32m━━━━━━━━━━━━━━━━━━━━\u001b[0m\u001b[37m\u001b[0m \u001b[1m4s\u001b[0m 22ms/step - accuracy: 0.7812 - loss: 763559.5000 - val_accuracy: 0.8222 - val_loss: 597746.3125\n",
      "Epoch 29/30\n",
      "\u001b[1m177/177\u001b[0m \u001b[32m━━━━━━━━━━━━━━━━━━━━\u001b[0m\u001b[37m\u001b[0m \u001b[1m25s\u001b[0m 140ms/step - accuracy: 0.7440 - loss: 2968008.5000 - val_accuracy: 0.8250 - val_loss: 10441738.0000\n",
      "Epoch 30/30\n",
      "\u001b[1m177/177\u001b[0m \u001b[32m━━━━━━━━━━━━━━━━━━━━\u001b[0m\u001b[37m\u001b[0m \u001b[1m3s\u001b[0m 19ms/step - accuracy: 0.6562 - loss: 19659030.0000 - val_accuracy: 0.8193 - val_loss: 9747499.0000\n",
      "\u001b[1m56/56\u001b[0m \u001b[32m━━━━━━━━━━━━━━━━━━━━\u001b[0m\u001b[37m\u001b[0m \u001b[1m4s\u001b[0m 66ms/step - accuracy: 0.8190 - loss: 10161982.0000\n",
      "Test Accuracy: 81.96%\n",
      "Test loss: 978440900.00%\n"
     ]
    }
   ],
   "source": [
    "# Train the model\n",
    "history = model1.fit(\n",
    "    train_generator_all,\n",
    "    steps_per_epoch=train_generator_all.samples // batch_size,\n",
    "    epochs=30,  # Increase the number of epochs for better results\n",
    "    validation_data=validation_generator_all,\n",
    "    validation_steps=validation_generator_all.samples // batch_size\n",
    ")\n",
    "# Evaluate the model\n",
    "loss, accuracy = model1.evaluate(validation_generator_all)\n",
    "print(f'Test Accuracy: {accuracy * 100:.2f}%')\n",
    "print(f'Test loss: {loss * 100:.2f}%')"
   ]
  },
  {
   "cell_type": "code",
   "execution_count": 28,
   "id": "0049a7bb-067f-42a8-8cd1-f6d3cee20e31",
   "metadata": {},
   "outputs": [
    {
     "name": "stdout",
     "output_type": "stream",
     "text": [
      "Epoch 1/30\n",
      "\u001b[1m177/177\u001b[0m \u001b[32m━━━━━━━━━━━━━━━━━━━━\u001b[0m\u001b[37m\u001b[0m \u001b[1m26s\u001b[0m 144ms/step - accuracy: 0.7522 - loss: 21792662.0000 - val_accuracy: 0.8119 - val_loss: 53349680.0000\n",
      "Epoch 2/30\n",
      "\u001b[1m177/177\u001b[0m \u001b[32m━━━━━━━━━━━━━━━━━━━━\u001b[0m\u001b[37m\u001b[0m \u001b[1m4s\u001b[0m 20ms/step - accuracy: 0.7188 - loss: 52316288.0000 - val_accuracy: 0.7898 - val_loss: 44406248.0000\n",
      "Epoch 3/30\n",
      "\u001b[1m177/177\u001b[0m \u001b[32m━━━━━━━━━━━━━━━━━━━━\u001b[0m\u001b[37m\u001b[0m \u001b[1m23s\u001b[0m 128ms/step - accuracy: 0.7672 - loss: 74554224.0000 - val_accuracy: 0.7222 - val_loss: 204909536.0000\n",
      "Epoch 4/30\n",
      "\u001b[1m177/177\u001b[0m \u001b[32m━━━━━━━━━━━━━━━━━━━━\u001b[0m\u001b[37m\u001b[0m \u001b[1m3s\u001b[0m 19ms/step - accuracy: 0.6250 - loss: 241530112.0000 - val_accuracy: 0.7773 - val_loss: 102963248.0000\n",
      "Epoch 5/30\n",
      "\u001b[1m177/177\u001b[0m \u001b[32m━━━━━━━━━━━━━━━━━━━━\u001b[0m\u001b[37m\u001b[0m \u001b[1m23s\u001b[0m 128ms/step - accuracy: 0.7141 - loss: 209494224.0000 - val_accuracy: 0.8011 - val_loss: 365461952.0000\n",
      "Epoch 6/30\n",
      "\u001b[1m177/177\u001b[0m \u001b[32m━━━━━━━━━━━━━━━━━━━━\u001b[0m\u001b[37m\u001b[0m \u001b[1m3s\u001b[0m 17ms/step - accuracy: 0.7500 - loss: 271738464.0000 - val_accuracy: 0.8210 - val_loss: 164084480.0000\n",
      "Epoch 7/30\n",
      "\u001b[1m177/177\u001b[0m \u001b[32m━━━━━━━━━━━━━━━━━━━━\u001b[0m\u001b[37m\u001b[0m \u001b[1m23s\u001b[0m 127ms/step - accuracy: 0.6895 - loss: 725669568.0000 - val_accuracy: 0.4744 - val_loss: 3001026560.0000\n",
      "Epoch 8/30\n",
      "\u001b[1m177/177\u001b[0m \u001b[32m━━━━━━━━━━━━━━━━━━━━\u001b[0m\u001b[37m\u001b[0m \u001b[1m3s\u001b[0m 19ms/step - accuracy: 0.4062 - loss: 2201328640.0000 - val_accuracy: 0.5682 - val_loss: 1601716096.0000\n",
      "Epoch 9/30\n",
      "\u001b[1m177/177\u001b[0m \u001b[32m━━━━━━━━━━━━━━━━━━━━\u001b[0m\u001b[37m\u001b[0m \u001b[1m23s\u001b[0m 128ms/step - accuracy: 0.6303 - loss: 2546391552.0000 - val_accuracy: 0.4574 - val_loss: 6298715648.0000\n",
      "Epoch 10/30\n",
      "\u001b[1m177/177\u001b[0m \u001b[32m━━━━━━━━━━━━━━━━━━━━\u001b[0m\u001b[37m\u001b[0m \u001b[1m3s\u001b[0m 19ms/step - accuracy: 0.5000 - loss: 5207207936.0000 - val_accuracy: 0.6557 - val_loss: 1205509632.0000\n",
      "Epoch 11/30\n",
      "\u001b[1m177/177\u001b[0m \u001b[32m━━━━━━━━━━━━━━━━━━━━\u001b[0m\u001b[37m\u001b[0m \u001b[1m23s\u001b[0m 130ms/step - accuracy: 0.6065 - loss: 5480242688.0000 - val_accuracy: 0.6670 - val_loss: 16876538880.0000\n",
      "Epoch 12/30\n",
      "\u001b[1m177/177\u001b[0m \u001b[32m━━━━━━━━━━━━━━━━━━━━\u001b[0m\u001b[37m\u001b[0m \u001b[1m4s\u001b[0m 20ms/step - accuracy: 0.6250 - loss: 22973034496.0000 - val_accuracy: 0.6739 - val_loss: 12324972544.0000\n",
      "Epoch 13/30\n",
      "\u001b[1m177/177\u001b[0m \u001b[32m━━━━━━━━━━━━━━━━━━━━\u001b[0m\u001b[37m\u001b[0m \u001b[1m23s\u001b[0m 131ms/step - accuracy: 0.5695 - loss: 12808702976.0000 - val_accuracy: 0.6926 - val_loss: 39268519936.0000\n",
      "Epoch 14/30\n",
      "\u001b[1m177/177\u001b[0m \u001b[32m━━━━━━━━━━━━━━━━━━━━\u001b[0m\u001b[37m\u001b[0m \u001b[1m4s\u001b[0m 20ms/step - accuracy: 0.5625 - loss: 31439405056.0000 - val_accuracy: 0.6773 - val_loss: 29318580224.0000\n",
      "Epoch 15/30\n",
      "\u001b[1m177/177\u001b[0m \u001b[32m━━━━━━━━━━━━━━━━━━━━\u001b[0m\u001b[37m\u001b[0m \u001b[1m24s\u001b[0m 136ms/step - accuracy: 0.5390 - loss: 33739231232.0000 - val_accuracy: 0.2960 - val_loss: 103659905024.0000\n",
      "Epoch 16/30\n",
      "\u001b[1m177/177\u001b[0m \u001b[32m━━━━━━━━━━━━━━━━━━━━\u001b[0m\u001b[37m\u001b[0m \u001b[1m4s\u001b[0m 22ms/step - accuracy: 0.5000 - loss: 50350931968.0000 - val_accuracy: 0.2824 - val_loss: 123189207040.0000\n",
      "Epoch 17/30\n",
      "\u001b[1m177/177\u001b[0m \u001b[32m━━━━━━━━━━━━━━━━━━━━\u001b[0m\u001b[37m\u001b[0m \u001b[1m26s\u001b[0m 145ms/step - accuracy: 0.5466 - loss: 109029777408.0000 - val_accuracy: 0.6869 - val_loss: 43284099072.0000\n",
      "Epoch 18/30\n",
      "\u001b[1m177/177\u001b[0m \u001b[32m━━━━━━━━━━━━━━━━━━━━\u001b[0m\u001b[37m\u001b[0m \u001b[1m4s\u001b[0m 23ms/step - accuracy: 0.5938 - loss: 63988498432.0000 - val_accuracy: 0.3136 - val_loss: 443129856000.0000\n",
      "Epoch 19/30\n",
      "\u001b[1m177/177\u001b[0m \u001b[32m━━━━━━━━━━━━━━━━━━━━\u001b[0m\u001b[37m\u001b[0m \u001b[1m26s\u001b[0m 147ms/step - accuracy: 0.5248 - loss: 489200353280.0000 - val_accuracy: 0.6000 - val_loss: 566159015936.0000\n",
      "Epoch 20/30\n",
      "\u001b[1m177/177\u001b[0m \u001b[32m━━━━━━━━━━━━━━━━━━━━\u001b[0m\u001b[37m\u001b[0m \u001b[1m4s\u001b[0m 20ms/step - accuracy: 0.6562 - loss: 343757783040.0000 - val_accuracy: 0.3801 - val_loss: 812421414912.0000\n",
      "Epoch 21/30\n",
      "\u001b[1m177/177\u001b[0m \u001b[32m━━━━━━━━━━━━━━━━━━━━\u001b[0m\u001b[37m\u001b[0m \u001b[1m23s\u001b[0m 131ms/step - accuracy: 0.5252 - loss: 1557006516224.0000 - val_accuracy: 0.5773 - val_loss: 3689162735616.0000\n",
      "Epoch 22/30\n",
      "\u001b[1m177/177\u001b[0m \u001b[32m━━━━━━━━━━━━━━━━━━━━\u001b[0m\u001b[37m\u001b[0m \u001b[1m4s\u001b[0m 20ms/step - accuracy: 0.5938 - loss: 2465434435584.0000 - val_accuracy: 0.5949 - val_loss: 1549017808896.0000\n",
      "Epoch 23/30\n",
      "\u001b[1m177/177\u001b[0m \u001b[32m━━━━━━━━━━━━━━━━━━━━\u001b[0m\u001b[37m\u001b[0m \u001b[1m25s\u001b[0m 143ms/step - accuracy: 0.5157 - loss: 4400179838976.0000 - val_accuracy: 0.5381 - val_loss: 2319078653952.0000\n",
      "Epoch 24/30\n",
      "\u001b[1m177/177\u001b[0m \u001b[32m━━━━━━━━━━━━━━━━━━━━\u001b[0m\u001b[37m\u001b[0m \u001b[1m4s\u001b[0m 22ms/step - accuracy: 0.5938 - loss: 2025700458496.0000 - val_accuracy: 0.4756 - val_loss: 5533641211904.0000\n",
      "Epoch 25/30\n",
      "\u001b[1m177/177\u001b[0m \u001b[32m━━━━━━━━━━━━━━━━━━━━\u001b[0m\u001b[37m\u001b[0m \u001b[1m26s\u001b[0m 145ms/step - accuracy: 0.5260 - loss: 10178544009216.0000 - val_accuracy: 0.4386 - val_loss: 22866821120000.0000\n",
      "Epoch 26/30\n",
      "\u001b[1m177/177\u001b[0m \u001b[32m━━━━━━━━━━━━━━━━━━━━\u001b[0m\u001b[37m\u001b[0m \u001b[1m4s\u001b[0m 24ms/step - accuracy: 0.4688 - loss: 23003968569344.0000 - val_accuracy: 0.4403 - val_loss: 13388127141888.0000\n",
      "Epoch 27/30\n",
      "\u001b[1m177/177\u001b[0m \u001b[32m━━━━━━━━━━━━━━━━━━━━\u001b[0m\u001b[37m\u001b[0m \u001b[1m24s\u001b[0m 137ms/step - accuracy: 0.5332 - loss: 14721821442048.0000 - val_accuracy: 0.5284 - val_loss: 52689194975232.0000\n",
      "Epoch 28/30\n",
      "\u001b[1m177/177\u001b[0m \u001b[32m━━━━━━━━━━━━━━━━━━━━\u001b[0m\u001b[37m\u001b[0m \u001b[1m4s\u001b[0m 20ms/step - accuracy: 0.6250 - loss: 43258910605312.0000 - val_accuracy: 0.5068 - val_loss: 64489739255808.0000\n",
      "Epoch 29/30\n",
      "\u001b[1m177/177\u001b[0m \u001b[32m━━━━━━━━━━━━━━━━━━━━\u001b[0m\u001b[37m\u001b[0m \u001b[1m23s\u001b[0m 130ms/step - accuracy: 0.5033 - loss: 30195635453952.0000 - val_accuracy: 0.6153 - val_loss: 45745193353216.0000\n",
      "Epoch 30/30\n",
      "\u001b[1m177/177\u001b[0m \u001b[32m━━━━━━━━━━━━━━━━━━━━\u001b[0m\u001b[37m\u001b[0m \u001b[1m3s\u001b[0m 19ms/step - accuracy: 0.5312 - loss: 56478945771520.0000 - val_accuracy: 0.5733 - val_loss: 27758327496704.0000\n",
      "\u001b[1m56/56\u001b[0m \u001b[32m━━━━━━━━━━━━━━━━━━━━\u001b[0m\u001b[37m\u001b[0m \u001b[1m3s\u001b[0m 61ms/step - accuracy: 0.5530 - loss: 28050477547520.0000\n",
      "Test Accuracy: 57.45%\n",
      "Test loss: 2773090513715200.00%\n"
     ]
    }
   ],
   "source": [
    "# Train the model\n",
    "history = model1.fit(\n",
    "    train_generator_all,\n",
    "    steps_per_epoch=train_generator_all.samples // batch_size,\n",
    "    epochs=30,  # Increase the number of epochs for better results\n",
    "    validation_data=validation_generator_all,\n",
    "    validation_steps=validation_generator_all.samples // batch_size\n",
    ")\n",
    "# Evaluate the model\n",
    "loss, accuracy = model1.evaluate(validation_generator_all)\n",
    "print(f'Test Accuracy: {accuracy * 100:.2f}%')\n",
    "print(f'Test loss: {loss * 100:.2f}%')"
   ]
  },
  {
   "cell_type": "code",
   "execution_count": 34,
   "id": "a382b501-d6fd-44a5-8d69-291f00df696c",
   "metadata": {},
   "outputs": [],
   "source": [
    "model.save('L14-2.keras')"
   ]
  }
 ],
 "metadata": {
  "kernelspec": {
   "display_name": "Python (gpu_env)",
   "language": "python",
   "name": "gpu_env"
  },
  "language_info": {
   "codemirror_mode": {
    "name": "ipython",
    "version": 3
   },
   "file_extension": ".py",
   "mimetype": "text/x-python",
   "name": "python",
   "nbconvert_exporter": "python",
   "pygments_lexer": "ipython3",
   "version": "3.11.11"
  }
 },
 "nbformat": 4,
 "nbformat_minor": 5
}
